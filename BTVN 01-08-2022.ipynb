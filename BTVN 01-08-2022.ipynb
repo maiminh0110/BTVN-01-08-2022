{
 "cells": [
  {
   "cell_type": "code",
   "execution_count": 2,
   "id": "1428109e",
   "metadata": {},
   "outputs": [
    {
     "name": "stdout",
     "output_type": "stream",
     "text": [
      "nhập mã vạch có 13 chữ số: 4902778120973\n",
      "\n",
      "4902778120973 đây không là 1 mã vạch\n"
     ]
    }
   ],
   "source": [
    "# Bài 1: Một vã vạch hàng hóa là một chuỗi có 13 chữ số, chữ số cuối cùng gọi là chữ số kiểm tra C.\n",
    "#     Gọi A là tổng các chữ số ở vị trí lẻ (trừ chữ số kiểm tra C). \n",
    "#     Gọi B là tổng các chữ số ở vị trí chẵn. Gọi D = A + 3B.\n",
    "#     Nếu phần dư của D chia cho 10 khác không thì F=10-phần dư, ngược lại F = 0. \n",
    "#     Một mã vạch được coi là mã vạch đúng nếu F=C. \n",
    "#     Viết phần mềm kiểm tra tính đúng đắn của một mã vạch nhập vào. \n",
    "#     Ví dụ: 4902778120972 là 1 mã vạch đúng, 4902778120973 là không phải mã vạch.\n",
    "\n",
    "\n",
    "#C\n",
    "# A = SUM (0+2+4+...+12)\n",
    "# B = SUM (1+3+5+...+11)\n",
    "# D = A + 3B\n",
    "# D%10 != 0 then F = (10 - (D%10)) else F = 0\n",
    "# F == C true \n",
    "#code1 = int(('').join(chuoi[i:(i+1)])) phải dùng join để liên kết chuỗi khi chuỗi xuất theo dạng slide\n",
    "\n",
    "code = (input('nhập mã vạch có 13 chữ số: '))\n",
    "\n",
    "def sum_(a, i, chuoi): \n",
    "    sum1 = 0\n",
    "    while i <= a:\n",
    "        code1 = int(code[i])\n",
    "        sum1 += code1\n",
    "        i +=2\n",
    "    return sum1\n",
    "\n",
    "A = sum_(10, 0, code)\n",
    "B = sum_(11, 1, code)\n",
    "  \n",
    "D = A + 3*B\n",
    "if D%10 == 0: \n",
    "    F = 0 \n",
    "else: \n",
    "    F = 10 - (D%10)\n",
    "\n",
    "print (\"\\n{} là 1 mã vạch đúng \".format(code)) if F == int(code[-1]) else print('\\n{} đây không là 1 mã vạch'.format(code))\n",
    "                                                             \n",
    "\n",
    "\n",
    "\n",
    "\n",
    "\n",
    "\n",
    "\n"
   ]
  },
  {
   "cell_type": "code",
   "execution_count": 3,
   "id": "42f69d1a",
   "metadata": {},
   "outputs": [],
   "source": [
    "# while i <= 10:\n",
    "    \n",
    "#     code1 = int(('').join(code[i:(i+1)]))\n",
    "#     A += code1\n",
    "#     i +=2\n",
    "\n",
    "# while j <= 11:\n",
    "#     code2 = int(('').join(code[j:(j+1)]))\n",
    "#     B += code2\n",
    "#     j +=2"
   ]
  },
  {
   "cell_type": "code",
   "execution_count": 11,
   "id": "dfd2368a",
   "metadata": {},
   "outputs": [
    {
     "name": "stdout",
     "output_type": "stream",
     "text": [
      "nhập N: 123\n",
      "3 9 15 21 27 33 39 45 51 57 63 69 75 81 87 93 99 105 111 117 123 "
     ]
    }
   ],
   "source": [
    "# Nhập vào một số tự nhiên N.\n",
    "# In ra màn hình tất cả các số nhỏ hơn N \n",
    "# và những số này chia kết cho 3 nhưng không chia hết cho 6.\n",
    "\n",
    "N = int (input('nhập N: '))\n",
    "i=0\n",
    "while i <= N: \n",
    "    if i%3 ==0 and i%6!=0: \n",
    "        print (i, end=' ')\n",
    "    i += 1\n"
   ]
  },
  {
   "cell_type": "code",
   "execution_count": null,
   "id": "9c201905",
   "metadata": {},
   "outputs": [],
   "source": []
  },
  {
   "cell_type": "code",
   "execution_count": null,
   "id": "ba769076",
   "metadata": {},
   "outputs": [],
   "source": []
  }
 ],
 "metadata": {
  "kernelspec": {
   "display_name": "Python 3 (ipykernel)",
   "language": "python",
   "name": "python3"
  },
  "language_info": {
   "codemirror_mode": {
    "name": "ipython",
    "version": 3
   },
   "file_extension": ".py",
   "mimetype": "text/x-python",
   "name": "python",
   "nbconvert_exporter": "python",
   "pygments_lexer": "ipython3",
   "version": "3.9.12"
  }
 },
 "nbformat": 4,
 "nbformat_minor": 5
}
